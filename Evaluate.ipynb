{
 "cells": [
  {
   "cell_type": "markdown",
   "metadata": {},
   "source": [
    "# Download and Extract data and model "
   ]
  },
  {
   "cell_type": "code",
   "execution_count": null,
   "metadata": {},
   "outputs": [],
   "source": [
    "# Download data\n",
    "!gdown https://drive.google.com/uc?id=1bmCaH8qvdgDDTv9AUTdCnRqoj6tKYcqG\n",
    "\n",
    "# Download MaskRCNN saved model\n",
    "!gdown https://drive.google.com/uc?id=1hOfoTwa_dE1I8PcDCRkcTIn9cXOVPx7U"
   ]
  },
  {
   "cell_type": "code",
   "execution_count": null,
   "metadata": {},
   "outputs": [],
   "source": [
    "import patoolib\n",
    "\n",
    "# Extract data\n",
    "patoolib.extract_archive(\"./InstanceSeg_ValSplit_data.rar\", outdir=\"./\")\n",
    "\n",
    "# Extract model\n",
    "patoolib.extract_archive(\"./InstanceSeg_ValSplit_data.rar\", outdir=\"./\")"
   ]
  },
  {
   "cell_type": "markdown",
   "metadata": {},
   "source": [
    "# Imports"
   ]
  },
  {
   "cell_type": "code",
   "execution_count": 1,
   "metadata": {},
   "outputs": [],
   "source": [
    "import json\n",
    "import numpy as np\n",
    "from tqdm import tqdm\n",
    "import tensorflow as tf"
   ]
  },
  {
   "cell_type": "code",
   "execution_count": 2,
   "metadata": {},
   "outputs": [],
   "source": [
    "from utils.segment.metrics import Metrics"
   ]
  },
  {
   "cell_type": "code",
   "execution_count": 3,
   "metadata": {},
   "outputs": [],
   "source": [
    "from utils.Datasets import COCO\n",
    "from utils.GrounTruth import single_image_anno_Processing\n",
    "from utils.tfModelPred import image_file_to_tensor, image_tensor_to_batched_tensor, get_detection_and_pred_masks\n",
    "from utils.DataTransformations import resize_masks, reshape_masks\n",
    "from utils.MetricsCalculations import process_batch, get_names_dict, ap_per_class_box_and_mask"
   ]
  },
  {
   "cell_type": "markdown",
   "metadata": {},
   "source": [
    "# Load data and instantiate COCO class"
   ]
  },
  {
   "cell_type": "code",
   "execution_count": 4,
   "metadata": {},
   "outputs": [],
   "source": [
    "# read data\n",
    "with open('data/random_coco_split_val.json','r') as f:\n",
    "    data= json.load(f)"
   ]
  },
  {
   "cell_type": "code",
   "execution_count": 5,
   "metadata": {},
   "outputs": [],
   "source": [
    "# COCO class\n",
    "coco= COCO(data)\n",
    "\n",
    "# create lists of image_IDs, image_filenames\n",
    "image_IDs, image_filenames= coco.get_images_IDS_filenames()  \n",
    "\n",
    "# create annotaions list\n",
    "annotations= coco.get_annotaions()"
   ]
  },
  {
   "cell_type": "markdown",
   "metadata": {},
   "source": [
    "# Load model"
   ]
  },
  {
   "cell_type": "code",
   "execution_count": 6,
   "metadata": {},
   "outputs": [],
   "source": [
    "# define model\n",
    "model= tf.saved_model.load('./saved_model')"
   ]
  },
  {
   "cell_type": "markdown",
   "metadata": {},
   "source": [
    "# Loop over images and calculate stats used for metric calculations"
   ]
  },
  {
   "cell_type": "code",
   "execution_count": 7,
   "metadata": {},
   "outputs": [
    {
     "name": "stderr",
     "output_type": "stream",
     "text": [
      "100%|██████████| 327/327 [03:57<00:00,  1.38it/s]\n"
     ]
    }
   ],
   "source": [
    "stats=[]\n",
    "for i in tqdm(range(len(image_IDs))):\n",
    "    #GT \n",
    "    # Get crrent image ID and filename\n",
    "    current_image_ID= image_IDs[i]\n",
    "    current_Image_name= image_filenames[i]\n",
    "\n",
    "    # from annotations list: get current image annotation\n",
    "    current_image_annotations= coco.retrieve_image_GT(current_image_ID) \n",
    "\n",
    "    # Get GT_masks and labels\n",
    "        # GT_masks: array[M, H, W], where M is the number of masks.\n",
    "        # labels: array[M, 5], normalized(class, y1, x1, y2, x2)\n",
    "    GT_masks, labels=single_image_anno_Processing(current_image_annotations, (1920, 1080))    \n",
    "             \n",
    "\n",
    "    # PRED \n",
    "    # Get PRED for a current image\n",
    "    image_arr= image_file_to_tensor(f'./data/445249_Road_distress/ds0/images/{current_Image_name}')            \n",
    "    batched_tensor =image_tensor_to_batched_tensor(image_arr)                                                  \n",
    "    detections= model(batched_tensor)\n",
    "    detec, PRED_masks, boxes, classes, scores= get_detection_and_pred_masks(detections, image_arr)    \n",
    "\n",
    "\n",
    "    # Prepare Masks\n",
    "    GT_masks, PRED_masks= resize_masks(GT_masks, PRED_masks, (512, 960))     # resizes input masks to shape\n",
    "    reshaped_GT_masks, reshaped_PRED_masks= reshape_masks(GT_masks, PRED_masks)   # reshape masks to shape (N,n) where: N=number of mask instances, n= imageH x imageW\n",
    "\n",
    "\n",
    "    # Compute metrics \n",
    "    # define iouv vector\n",
    "    iouv = np.linspace(0.5, 0.95, 10) \n",
    "    niou = iouv.size\n",
    "\n",
    "    nl, npr = labels.shape[0], detec.shape[0]  # number of labels, predictions\n",
    "    correct_masks = np.zeros((npr, niou), dtype=bool)  # init\n",
    "    correct_bboxes = np.zeros((npr, niou), dtype=bool)  # init\n",
    "\n",
    "    if npr == 0:\n",
    "        if nl:\n",
    "            stats.append((correct_masks, correct_bboxes,*np.zeros((2, 0)), labels[:, 0]))\n",
    "\n",
    "    if nl:\n",
    "        # Get correct masks and boxes\n",
    "        correct_masks= process_batch(detec, labels, iouv, pred_masks=reshaped_PRED_masks, gt_masks=reshaped_GT_masks, masks= True)\n",
    "        correct_bboxes= process_batch(detec, labels, iouv, masks= False)\n",
    "    stats.append((correct_masks, correct_bboxes, detec[:, 4], detec[:, 5], labels[:, 0]))  # (conf, pcls, tcls)\n",
    "    "
   ]
  },
  {
   "cell_type": "markdown",
   "metadata": {},
   "source": [
    "# Get class names "
   ]
  },
  {
   "cell_type": "code",
   "execution_count": 8,
   "metadata": {},
   "outputs": [
    {
     "data": {
      "text/plain": [
       "{1: 'Longitudinal crack',\n",
       " 2: 'Transverse crack',\n",
       " 3: 'Block crack',\n",
       " 4: 'Bleeding-',\n",
       " 5: 'Aligator crack',\n",
       " 6: 'Pothole'}"
      ]
     },
     "execution_count": 8,
     "metadata": {},
     "output_type": "execute_result"
    }
   ],
   "source": [
    "names= get_names_dict(coco.get_categories())                 \n",
    "names"
   ]
  },
  {
   "cell_type": "markdown",
   "metadata": {},
   "source": [
    "# Compute metrics"
   ]
  },
  {
   "cell_type": "code",
   "execution_count": 9,
   "metadata": {},
   "outputs": [],
   "source": [
    "def compute_Mrtrics(stats, names, no_of_eval_images):\n",
    "    # process stats\n",
    "    stats = [np.concatenate(x) for x in zip(*stats)]\n",
    "    # instantiate a metrics class\n",
    "    metrics = Metrics()\n",
    "    \n",
    "    # Compute metrics\n",
    "    if len(stats) and stats[0].any():\n",
    "        results = ap_per_class_box_and_mask(*stats, plot=False, save_dir='.', names=names)\n",
    "        metrics.update(results)\n",
    "\n",
    "    pf = '%22s' + '%11i' * 2 + '%11.3g' * 8  # print format\n",
    "    nt = np.bincount(stats[4].astype(int), minlength=4)  # number of targets per class\n",
    "\n",
    "    # print mean results\n",
    "    print(('%22s' + '%11s' * 2 + '%11s' * 8) % (\"Class\", \"Images\", \"Instances\", \"Box(P\", \"R\", \"mAP50\", \"mAP50-95)\", \"Mask(P\", \"R\", \"mAP50\", \"mAP50-95)\"))\n",
    "    \n",
    "    # print per class results\n",
    "    print(pf % (\"all\", no_of_eval_images, nt.sum(), *metrics.mean_results()))\n",
    "    for i, c in enumerate(metrics.ap_class_index):\n",
    "        print(pf % (names[c], no_of_eval_images, nt[c], *metrics.class_result(i)))"
   ]
  },
  {
   "cell_type": "code",
   "execution_count": 10,
   "metadata": {},
   "outputs": [
    {
     "name": "stdout",
     "output_type": "stream",
     "text": [
      "                 Class     Images  Instances      Box(P          R      mAP50  mAP50-95)     Mask(P          R      mAP50  mAP50-95)\n",
      "                   all        327       1245      0.829      0.765      0.835      0.588      0.815      0.709      0.791       0.45\n",
      "    Longitudinal crack        327        786      0.978      0.911      0.954      0.866      0.947      0.879      0.922      0.401\n",
      "      Transverse crack        327        312      0.925      0.808      0.914      0.642      0.928      0.784      0.884      0.396\n",
      "           Block crack        327         55      0.937      0.727      0.856      0.718      0.952      0.719      0.856      0.758\n",
      "             Bleeding-        327         58      0.843      0.569      0.719      0.381      0.816        0.5      0.662       0.35\n",
      "        Aligator crack        327         23      0.567       0.87      0.849      0.547      0.665      0.862      0.849      0.542\n",
      "               Pothole        327         11       0.72      0.705      0.718      0.374      0.584      0.512      0.573      0.252\n"
     ]
    }
   ],
   "source": [
    "compute_Mrtrics(stats= stats, names=names, no_of_eval_images= len(image_IDs))                         "
   ]
  },
  {
   "cell_type": "code",
   "execution_count": null,
   "metadata": {},
   "outputs": [],
   "source": []
  }
 ],
 "metadata": {
  "kernelspec": {
   "display_name": "Python 3.9.7 ('tensorflow')",
   "language": "python",
   "name": "python3"
  },
  "language_info": {
   "codemirror_mode": {
    "name": "ipython",
    "version": 3
   },
   "file_extension": ".py",
   "mimetype": "text/x-python",
   "name": "python",
   "nbconvert_exporter": "python",
   "pygments_lexer": "ipython3",
   "version": "3.9.7"
  },
  "orig_nbformat": 4,
  "vscode": {
   "interpreter": {
    "hash": "1354081f8c82065e707796ac9849f2875608bc3d79da2eea83c76dc2980402fa"
   }
  }
 },
 "nbformat": 4,
 "nbformat_minor": 2
}
